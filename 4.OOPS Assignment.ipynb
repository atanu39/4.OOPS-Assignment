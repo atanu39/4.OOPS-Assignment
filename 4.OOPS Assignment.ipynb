{
 "cells": [
  {
   "cell_type": "markdown",
   "id": "92473dbe-a612-4ded-ada9-27a65dbef5ca",
   "metadata": {},
   "source": [
    "# Q1. Explain Class and Object with respect to Object-Oriented Programming. Give a suitable example."
   ]
  },
  {
   "cell_type": "markdown",
   "id": "b523a89d-3c95-462e-a295-f036910e930f",
   "metadata": {},
   "source": [
    "# Ans :"
   ]
  },
  {
   "cell_type": "markdown",
   "id": "e3f6a0a3-afa1-4a82-9abd-ddc6d2e5b8a9",
   "metadata": {
    "tags": []
   },
   "source": [
    "## In object-oriented programming, a class is a blueprint for creating objects. It is a user-defined data type that encapsulates data and behaviors that characterize a particular entity. An object, on the other hand, is an instance of a class, created using the constructor method. Objects have their own state and behavior, and can communicate with each other through methods.\n",
    "\n",
    "## For example, consider a class named \"Person\" that defines the attributes and behaviors of a person. The class may have attributes such as name, age, and gender, and behaviors such as walking and talking. An object of the \"Person\" class would be an instance of a person with specific values for these attributes."
   ]
  },
  {
   "cell_type": "code",
   "execution_count": 32,
   "id": "7007efa8-4e02-468c-b0a5-6029d073bde5",
   "metadata": {},
   "outputs": [],
   "source": [
    "class pwskills:                 # pwskills is a class\n",
    "    def welcome_msg(self):\n",
    "        print (\"Welcome to pwskills.\")\n",
    "    "
   ]
  },
  {
   "cell_type": "code",
   "execution_count": 33,
   "id": "9337b193-b03f-4604-83dc-9bfec10b1064",
   "metadata": {},
   "outputs": [
    {
     "name": "stdout",
     "output_type": "stream",
     "text": [
      "Welcome to pwskills.\n"
     ]
    }
   ],
   "source": [
    "rohan=pwskills()                   #rohan is a object of class pwskills\n",
    "rohan.welcome_msg()"
   ]
  },
  {
   "cell_type": "markdown",
   "id": "0825818d-1a79-4515-95c6-675ed533b266",
   "metadata": {},
   "source": [
    "# Q2. Name the four pillars of OOPs."
   ]
  },
  {
   "cell_type": "markdown",
   "id": "e85c4fa7-9b8b-42ee-83fa-ba74ac8ab59b",
   "metadata": {},
   "source": [
    "# Ans:"
   ]
  },
  {
   "cell_type": "markdown",
   "id": "fbf43ace-9d9a-4035-a0d9-c28cfc145ddf",
   "metadata": {},
   "source": [
    "##  The four pillars of object-oriented programming are:\n",
    "\n",
    "## Abstraction: The ability to represent complex real-world entities as simplified models using abstract classes and interfaces.\n",
    "## Encapsulation: The principle of hiding the implementation details of an object and exposing only the necessary information through methods and properties.\n",
    "## Inheritance: The ability to create new classes based on existing ones, inheriting their attributes and behaviors.\n",
    "## Polymorphism: The ability of objects of different classes to be used interchangeably, allowing for flexibility and extensibility in the code."
   ]
  },
  {
   "cell_type": "markdown",
   "id": "d5c3640c-9b52-4e12-81d2-047780d48465",
   "metadata": {},
   "source": [
    "# Q3. Explain why the __init__() function is used. Give a suitable example."
   ]
  },
  {
   "cell_type": "markdown",
   "id": "5b67402e-d28a-4df3-a147-0ac9fdf4ca2c",
   "metadata": {},
   "source": [
    "# Ans :"
   ]
  },
  {
   "cell_type": "markdown",
   "id": "526cd853-42c8-4ff8-81a6-8b89f3acb179",
   "metadata": {},
   "source": [
    "## The __init__() function is a special method in Python that is used to initialize the attributes of an object when it is created. It is called automatically when an object is created using the class constructor.\n",
    "\n",
    "## For example, consider the \"Person\" class. The init() method could be used to initialize the name, age, and gender attributes of a new object."
   ]
  },
  {
   "cell_type": "code",
   "execution_count": 34,
   "id": "a0b21372-3a8f-4db8-b012-647c702d9f8b",
   "metadata": {},
   "outputs": [],
   "source": [
    "class Person:\n",
    "    def __init__(self, name, age, gender):\n",
    "        self.name = name\n",
    "        self.age = age\n",
    "        self.gender = gender\n"
   ]
  },
  {
   "cell_type": "code",
   "execution_count": 36,
   "id": "238c518e-272c-4db0-8f68-7c22f6f493d0",
   "metadata": {},
   "outputs": [],
   "source": [
    "P1=Person(\"atanu\",30,\"male\")"
   ]
  },
  {
   "cell_type": "code",
   "execution_count": 37,
   "id": "d730b158-1313-42dd-84ae-b06684c6a39f",
   "metadata": {},
   "outputs": [
    {
     "data": {
      "text/plain": [
       "'atanu'"
      ]
     },
     "execution_count": 37,
     "metadata": {},
     "output_type": "execute_result"
    }
   ],
   "source": [
    "P1.name"
   ]
  },
  {
   "cell_type": "code",
   "execution_count": 38,
   "id": "e675ad0d-9c64-4dbb-bbfd-a29a5149e78d",
   "metadata": {},
   "outputs": [
    {
     "data": {
      "text/plain": [
       "'male'"
      ]
     },
     "execution_count": 38,
     "metadata": {},
     "output_type": "execute_result"
    }
   ],
   "source": [
    "P1.gender"
   ]
  },
  {
   "cell_type": "markdown",
   "id": "4b2e116d-15e1-4c3d-b6b3-2182bfe43030",
   "metadata": {},
   "source": [
    "# Q4. Why self is used in OOPs?"
   ]
  },
  {
   "cell_type": "markdown",
   "id": "2897bb7b-af77-4659-965c-1b2daada4d89",
   "metadata": {},
   "source": [
    "# Ans :"
   ]
  },
  {
   "cell_type": "markdown",
   "id": "5bec7862-847a-4090-be9b-54d2c6c7e1f9",
   "metadata": {},
   "source": [
    "# In object-oriented programming, the \"self\" keyword is used as a reference/pointer to the current object. It is used to access the attributes and methods of an object from within the class definition.\n",
    "\n",
    "# For example, consider the following class definition:"
   ]
  },
  {
   "cell_type": "code",
   "execution_count": 41,
   "id": "99f1c668-d25a-44de-9e80-44802f9cd21a",
   "metadata": {},
   "outputs": [],
   "source": [
    "class Person:\n",
    "    def __init__(self, name, age):\n",
    "        self.name = name\n",
    "        self.age = age\n",
    "\n",
    "    def introduce(self):\n",
    "        print(\"My name is\", self.name, \"and I am\", self.age, \"years old.\")\n",
    "#In this example, the \"self\" keyword is used to refer to the \"name\" and \"age\" attributes of the object within the \"introduce()\" method."
   ]
  },
  {
   "cell_type": "code",
   "execution_count": 42,
   "id": "54f9b700-7fc2-40d4-8c04-b09c8e3d3033",
   "metadata": {},
   "outputs": [],
   "source": [
    "P2=Person(\"Atanu\",30)"
   ]
  },
  {
   "cell_type": "code",
   "execution_count": 44,
   "id": "4df6fc07-cbbf-4161-9700-27a9d93b437d",
   "metadata": {},
   "outputs": [
    {
     "name": "stdout",
     "output_type": "stream",
     "text": [
      "My name is Atanu and I am 30 years old.\n"
     ]
    }
   ],
   "source": [
    "P2.introduce()"
   ]
  },
  {
   "cell_type": "markdown",
   "id": "f77b686e-b827-4818-ba17-dec865f7b72e",
   "metadata": {},
   "source": [
    "# Q5. What is inheritance? Give an example for each type of inheritance."
   ]
  },
  {
   "cell_type": "markdown",
   "id": "0123cc4d-67e2-434d-a245-ba2ba463ab10",
   "metadata": {},
   "source": [
    "# Ans :"
   ]
  },
  {
   "cell_type": "markdown",
   "id": "b1ba0ca4-5852-4b0a-83b0-59bdc244e266",
   "metadata": {},
   "source": [
    "## Inheritance is a fundamental concept in object-oriented programming (OOP) that allows one class to inherit properties and methods from another class. Inheritance is a way to create a new class by building upon an existing class. The class that is being inherited from is called the parent class or superclass, while the class that is inheriting from the parent class is called the child class or subclass.\n",
    "\n",
    "## When a subclass inherits from a parent class, it automatically gains access to all the attributes and methods of the parent class. This means that the child class can use the methods and attributes of the parent class without having to define them again. The child class can also override or extend the methods and attributes of the parent class, allowing it to customize its behavior.\n",
    "\n",
    "## Inheritance is an important concept in OOP because it allows for code reuse and simplifies the process of creating new classes. It also makes it easier to organize and maintain large codebases, since classes can be grouped into hierarchies based on their relationships with each other.\n"
   ]
  },
  {
   "cell_type": "markdown",
   "id": "b4e9ee0c-2e13-4adf-909b-f79bb444b02d",
   "metadata": {},
   "source": [
    "## There are several types of inheritance that can be used to create new classes based on existing ones. These are:\n",
    "\n",
    "## Single inheritance: This is the most common type of inheritance, in which a subclass inherits from a single parent class. The subclass has access to all the attributes and methods of the parent class.For example, suppose we have a class called Animal, and we want to create a subclass called Dog that inherits from Animal. Here's how we can do it in Python:"
   ]
  },
  {
   "cell_type": "code",
   "execution_count": 9,
   "id": "32a55af9-20d7-429e-b72e-69543693bca3",
   "metadata": {},
   "outputs": [],
   "source": [
    "class Animal:\n",
    "    def __init__(self, name, species):\n",
    "        self.name = name\n",
    "        self.species = species\n",
    "\n",
    "class Dog(Animal):\n",
    "    def __init__(self, name, species, breed):\n",
    "        super().__init__(name, species)\n",
    "        self.breed = breed\n",
    "# In this example, the Dog class inherits from the Animal class, \n",
    "#which means that it has access to all the attributes and methods of the Animal class."
   ]
  },
  {
   "cell_type": "markdown",
   "id": "ceb46a2f-1ad7-42e5-ab53-4aa4ca044a28",
   "metadata": {},
   "source": [
    "## Multiple inheritance: Multiple inheritance is when a subclass inherits from more than one parent class. For example, suppose we have a class called Flying and another class called Swimming, and we want to create a subclass called Duck that can both fly and swim. Here's how we can do it in Python:\n"
   ]
  },
  {
   "cell_type": "code",
   "execution_count": 10,
   "id": "7cd59528-99b0-4b5e-aec1-2f1560a9bf4c",
   "metadata": {},
   "outputs": [],
   "source": [
    "class Flying:\n",
    "    def fly(self):\n",
    "        print(\"I'm flying!\")\n",
    "\n",
    "class Swimming:\n",
    "    def swim(self):\n",
    "        print(\"I'm swimming!\")\n",
    "\n",
    "class Duck(Flying, Swimming):\n",
    "    pass\n",
    "# In this example, the Duck class inherits from both the Flying and Swimming classes, \n",
    "# which means that it has access to both the fly() and swim() methods."
   ]
  },
  {
   "cell_type": "markdown",
   "id": "225dc6cb-7966-4698-8af3-af49898886dc",
   "metadata": {},
   "source": [
    "## Hierarchical inheritance: Hierarchical inheritance is when multiple subclasses inherit from a single parent class. For example, suppose we have a class called Vehicle, and we want to create two subclasses called Car and Bike that both inherit from Vehicle. Here's how we can do it in Python:"
   ]
  },
  {
   "cell_type": "code",
   "execution_count": 11,
   "id": "e6f0de81-b433-43d8-ad4f-9f88f13b9c7d",
   "metadata": {},
   "outputs": [],
   "source": [
    "class Vehicle:\n",
    "    def __init__(self, brand, model):\n",
    "        self.brand = brand\n",
    "        self.model = model\n",
    "\n",
    "class Car(Vehicle):\n",
    "    def drive(self):\n",
    "        print(\"I'm driving a car.\")\n",
    "\n",
    "class Bike(Vehicle):\n",
    "    def ride(self):\n",
    "        print(\"I'm riding a bike.\")\n",
    "# In this example, both the Car and Bike classes inherit from the Vehicle class,\n",
    "# which means that they both have access to the brand and model attributes."
   ]
  },
  {
   "cell_type": "markdown",
   "id": "8f82cb16-cdb1-4c3e-81a7-6f976a1e40ab",
   "metadata": {},
   "source": [
    "## Multilevel Inheritance is a type of inheritance where a derived class is created from a base class, and then a new derived class is created from the first derived class. In this type of inheritance, a class inherits properties from its immediate parent class, which in turn may have inherited properties from its parent class, and so on. The depth of inheritance hierarchy can be more than two.\n",
    "\n",
    "## For example, consider the following code:"
   ]
  },
  {
   "cell_type": "code",
   "execution_count": 12,
   "id": "5d68d244-070a-4e2e-91a4-782538247226",
   "metadata": {},
   "outputs": [
    {
     "name": "stdout",
     "output_type": "stream",
     "text": [
      "Tommy\n",
      "Woof! Woof!\n",
      "Puppy is playing.\n"
     ]
    }
   ],
   "source": [
    "class Animal:\n",
    "    def __init__(self, name, age):\n",
    "        self.name = name\n",
    "        self.age = age\n",
    "\n",
    "class Dog(Animal):\n",
    "    def bark(self):\n",
    "        print(\"Woof! Woof!\")\n",
    "\n",
    "class Puppy(Dog):\n",
    "    def play(self):\n",
    "        print(\"Puppy is playing.\")\n",
    "\n",
    "p = Puppy(\"Tommy\", 1)\n",
    "print(p.name)\n",
    "p.bark() \n",
    "p.play() \n"
   ]
  },
  {
   "cell_type": "markdown",
   "id": "b278a13f-594b-42aa-ac08-9c89dc4cafe9",
   "metadata": {},
   "source": [
    "## Hybrid inheritance is a type of inheritance in object-oriented programming where a class inherits from multiple classes using both single and multiple inheritances. In other words, it is a combination of two or more types of inheritance, such as hierarchical and multiple inheritance.\n",
    "\n",
    "## Suppose we have a base class called \"Person\" that has attributes such as name, age, and gender, and methods such as \"get_name\", \"get_age\", and \"get_gender\". We also have a subclass called \"Employee\" that inherits from the \"Person\" class and adds attributes such as employee_id and salary, and methods such as \"get_employee_id\" and \"get_salary\".\n",
    "\n",
    "## Now let's say we have another class called \"Department\" that has attributes such as department_id and department_name, and methods such as \"get_department_id\" and \"get_department_name\". We want to create a new subclass called \"Manager\" that inherits from both the \"Employee\" class and the \"Department\" class, forming a hybrid inheritance.\n",
    "\n",
    "## Here's how we can define the \"Manager\" class:"
   ]
  },
  {
   "cell_type": "code",
   "execution_count": 24,
   "id": "096b4b4c-fe52-45bb-861e-b2137e5d9106",
   "metadata": {},
   "outputs": [],
   "source": [
    "class Person:\n",
    "    def __init__(self, name, age, gender):\n",
    "        self.name = name\n",
    "        self.age = age\n",
    "        self.gender = gender\n",
    "\n",
    "    def get_name(self):\n",
    "        return self.name\n",
    "\n",
    "    def get_age(self):\n",
    "        return self.age\n",
    "\n",
    "    def get_gender(self):\n",
    "        return self.gender\n",
    "\n",
    "class Employee(Person):\n",
    "    def __init__(self, name, age, gender, employee_id, salary):\n",
    "        super().__init__(name, age, gender)\n",
    "        self.employee_id = employee_id\n",
    "        self.salary = salary\n",
    "\n",
    "    def get_employee_id(self):\n",
    "        return self.employee_id\n",
    "\n",
    "    def get_salary(self):\n",
    "        return self.salary\n",
    "\n",
    "class Department:\n",
    "    def __init__(self, department_id, department_name):\n",
    "        self.department_id = department_id\n",
    "        self.department_name = department_name\n",
    "\n",
    "    def get_department_id(self):\n",
    "        return self.department_id\n",
    "\n",
    "    def get_department_name(self):\n",
    "        return self.department_name\n",
    "\n",
    "class Manager(Employee, Department):\n",
    "    def __init__(self, name, age, gender, employee_id, salary, department_id, department_name):\n",
    "        Employee.__init__(self, name, age, gender, employee_id, salary)\n",
    "        Department.__init__(self, department_id, department_name)\n"
   ]
  },
  {
   "cell_type": "markdown",
   "id": "8143639c-3d6f-4468-bc8f-9f2681dd8ef7",
   "metadata": {},
   "source": [
    "## In this example, the \"Manager\" class inherits from both the \"Employee\" class and the \"Department\" class. This means that an instance of the \"Manager\" class will have access to all the attributes and methods of both classes. For example, we can create an instance of the \"Manager\" class and call its methods:"
   ]
  },
  {
   "cell_type": "code",
   "execution_count": 25,
   "id": "60faa6f7-9f71-4621-86b7-b504438c4940",
   "metadata": {},
   "outputs": [
    {
     "name": "stdout",
     "output_type": "stream",
     "text": [
      "John Doe\n",
      "5000\n",
      "Sales\n"
     ]
    }
   ],
   "source": [
    "manager = Manager(\"John Doe\", 35, \"Male\", 12345, 5000, 1, \"Sales\")\n",
    "print(manager.get_name())\n",
    "print(manager.get_salary()) \n",
    "print(manager.get_department_name()) \n"
   ]
  },
  {
   "cell_type": "markdown",
   "id": "0049c534-32b1-47d3-b2a2-60e1bfb3e74a",
   "metadata": {},
   "source": [
    "## As we can see, the \"Manager\" class can access the attributes and methods of both the \"Employee\" class and the \"Department\" class, forming a complex inheritance hierarchy that allows us to create more specialized classes. This is an example of how hybrid inheritance can be used to create complex class hierarchies with multiple inheritance."
   ]
  },
  {
   "cell_type": "code",
   "execution_count": null,
   "id": "0c0b3ea4-b7af-43e6-b775-123331acd21a",
   "metadata": {},
   "outputs": [],
   "source": []
  }
 ],
 "metadata": {
  "kernelspec": {
   "display_name": "Python 3 (ipykernel)",
   "language": "python",
   "name": "python3"
  },
  "language_info": {
   "codemirror_mode": {
    "name": "ipython",
    "version": 3
   },
   "file_extension": ".py",
   "mimetype": "text/x-python",
   "name": "python",
   "nbconvert_exporter": "python",
   "pygments_lexer": "ipython3",
   "version": "3.10.8"
  }
 },
 "nbformat": 4,
 "nbformat_minor": 5
}
